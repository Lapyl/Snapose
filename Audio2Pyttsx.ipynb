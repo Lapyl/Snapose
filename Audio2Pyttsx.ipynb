{
 "cells": [
  {
   "cell_type": "code",
   "execution_count": 1,
   "metadata": {},
   "outputs": [],
   "source": [
    "import pyttsx3\n",
    "import os"
   ]
  },
  {
   "cell_type": "code",
   "execution_count": 2,
   "metadata": {},
   "outputs": [],
   "source": [
    "ztxt = [\n",
    "\"Hi, I am Lalit A Patel.\",\n",
    "\"Hi, I am Laxmi L Patel.\",\n",
    "\"Our objective in this project was to develop a Windows desktop app to:\",\n",
    "\"detect key points of the body while a person is walking,\",\n",
    "\"analyze x and y coordinates of the key points in different frames, and\",\n",
    "\"infer whether the person is walking correctly.\",\n",
    "\"We have named our proposed app Snapose.\",\n",
    "\"After comparing several possible options for developing an app,\",\n",
    "\"we have selected Flutter with Dart, because\",\n",
    "\"it is a user-friendly approach with excellent documentation, and\",\n",
    "\"it can produce apps for Windows, Linux, iOS, or Android.\",\n",
    "\"We have designed the GUI of our Flutter-Dart-based app, and\",\n",
    "\"have written some of the necessary codes.\",\n",
    "\"However, we have so far not completed and finalized all codes for the app.\",\n",
    "\"Qualcomm has a few deep-learning models that can detect some key points of the body.\",\n",
    "\"However, Qualcomm’s models so far cannot suit for analyzing the pattern of walking.\",\n",
    "\"We found Carnegie Melon University's OpenPose algorithm to be most suitable for our objective.\",\n",
    "\"We used one of the laptops remotely provided by Qualcomm\",\n",
    "\"for applying OpenPose on videos of people walking.\",\n",
    "\"The Qualcomm laptop’s Snapdragon chip architecture and sizable RAM could\",\n",
    "\"process videos much faster than on our own Intel chip based computers.\",\n",
    "\"OpenPose is available as a Windows executable .exe file.\",\n",
    "\"A simple one-line command-line code can process a video,\",\n",
    "\"detect key points of bodies of multiple people, and\",\n",
    "\"produce .json files, one file for each frame of the video.\",\n",
    "\"We used an example video of multiple people walking.\",\n",
    "\"To avoid possible mix-up of coordinates of key points,\",\n",
    "\"we created and analyzed our own video of Laxmi walking, with the camera facing on her front.\",\n",
    "\"To make it possible to analyze movements of arms with respect to feet,\",\n",
    "\"we created and analyzed our own video of Laxmi walking, with the camera facing on her side.\",\n",
    "\"We wrote a Python code to analyze the .json files from the multiple people video.\",\n",
    "\"We found that the selected person raises feet more than appropriate.\",\n",
    "\"Using Matplotlib package, we created an animation of key points of the selected person.\",\n",
    "\"We tweaked the Python code to analyze the .json files from the video of Laxmi facing the camera.\",\n",
    "\"We found that Laxmi raises feet correctly.\",\n",
    "\"We used the same Python code to analyze the .json files from the video with the camera on a side of Laxmi.\",\n",
    "\"Here also we found that Laxmi raises feet correctly.\"\n",
    "\"Thank you.\",\n",
    "\"Thank you.\"\n",
    "]\n",
    "t = len(ztxt)"
   ]
  },
  {
   "cell_type": "code",
   "execution_count": 3,
   "metadata": {},
   "outputs": [],
   "source": [
    "zdir = \"J:/Hack-2502-Devpost-QualcommSnapdragon/Audio/\""
   ]
  },
  {
   "cell_type": "code",
   "execution_count": 4,
   "metadata": {},
   "outputs": [],
   "source": [
    "zeng = pyttsx3.init()\n",
    "zeng.setProperty('rate', 145)\n",
    "zvoi = zeng.getProperty('voices')"
   ]
  },
  {
   "cell_type": "code",
   "execution_count": 5,
   "metadata": {},
   "outputs": [
    {
     "name": "stdout",
     "output_type": "stream",
     "text": [
      "J:/Hack-2502-Devpost-QualcommSnapdragon/Audio/A101.wav\n",
      "J:/Hack-2502-Devpost-QualcommSnapdragon/Audio/A102.wav\n",
      "J:/Hack-2502-Devpost-QualcommSnapdragon/Audio/A103.wav\n",
      "J:/Hack-2502-Devpost-QualcommSnapdragon/Audio/A104.wav\n",
      "J:/Hack-2502-Devpost-QualcommSnapdragon/Audio/A105.wav\n",
      "J:/Hack-2502-Devpost-QualcommSnapdragon/Audio/A106.wav\n",
      "J:/Hack-2502-Devpost-QualcommSnapdragon/Audio/A107.wav\n",
      "J:/Hack-2502-Devpost-QualcommSnapdragon/Audio/A108.wav\n",
      "J:/Hack-2502-Devpost-QualcommSnapdragon/Audio/A109.wav\n",
      "J:/Hack-2502-Devpost-QualcommSnapdragon/Audio/A110.wav\n",
      "J:/Hack-2502-Devpost-QualcommSnapdragon/Audio/A111.wav\n",
      "J:/Hack-2502-Devpost-QualcommSnapdragon/Audio/A112.wav\n",
      "J:/Hack-2502-Devpost-QualcommSnapdragon/Audio/A113.wav\n",
      "J:/Hack-2502-Devpost-QualcommSnapdragon/Audio/A114.wav\n",
      "J:/Hack-2502-Devpost-QualcommSnapdragon/Audio/A115.wav\n",
      "J:/Hack-2502-Devpost-QualcommSnapdragon/Audio/A116.wav\n",
      "J:/Hack-2502-Devpost-QualcommSnapdragon/Audio/A117.wav\n",
      "J:/Hack-2502-Devpost-QualcommSnapdragon/Audio/A118.wav\n",
      "J:/Hack-2502-Devpost-QualcommSnapdragon/Audio/A119.wav\n",
      "J:/Hack-2502-Devpost-QualcommSnapdragon/Audio/A120.wav\n",
      "J:/Hack-2502-Devpost-QualcommSnapdragon/Audio/A121.wav\n",
      "J:/Hack-2502-Devpost-QualcommSnapdragon/Audio/A122.wav\n",
      "J:/Hack-2502-Devpost-QualcommSnapdragon/Audio/A123.wav\n",
      "J:/Hack-2502-Devpost-QualcommSnapdragon/Audio/A124.wav\n",
      "J:/Hack-2502-Devpost-QualcommSnapdragon/Audio/A125.wav\n",
      "J:/Hack-2502-Devpost-QualcommSnapdragon/Audio/A126.wav\n",
      "J:/Hack-2502-Devpost-QualcommSnapdragon/Audio/A127.wav\n",
      "J:/Hack-2502-Devpost-QualcommSnapdragon/Audio/A128.wav\n",
      "J:/Hack-2502-Devpost-QualcommSnapdragon/Audio/A129.wav\n",
      "J:/Hack-2502-Devpost-QualcommSnapdragon/Audio/A130.wav\n",
      "J:/Hack-2502-Devpost-QualcommSnapdragon/Audio/A131.wav\n",
      "J:/Hack-2502-Devpost-QualcommSnapdragon/Audio/A132.wav\n",
      "J:/Hack-2502-Devpost-QualcommSnapdragon/Audio/A133.wav\n",
      "J:/Hack-2502-Devpost-QualcommSnapdragon/Audio/A134.wav\n",
      "J:/Hack-2502-Devpost-QualcommSnapdragon/Audio/A135.wav\n",
      "J:/Hack-2502-Devpost-QualcommSnapdragon/Audio/A136.wav\n",
      "J:/Hack-2502-Devpost-QualcommSnapdragon/Audio/A137.wav\n",
      "J:/Hack-2502-Devpost-QualcommSnapdragon/Audio/A138.wav\n"
     ]
    }
   ],
   "source": [
    "for i in range(t):\n",
    "    j = i % 2\n",
    "    zeng.setProperty('voice', zvoi[j].id)\n",
    "    zfil = \"A\" + str(101+i) + \".wav\"\n",
    "    zeng.save_to_file(ztxt[i], zdir + zfil)\n",
    "    zeng.runAndWait()\n",
    "    print(zdir + zfil)"
   ]
  },
  {
   "cell_type": "code",
   "execution_count": null,
   "metadata": {},
   "outputs": [],
   "source": []
  }
 ],
 "metadata": {
  "kernelspec": {
   "display_name": "Python 3 (ipykernel)",
   "language": "python",
   "name": "python3"
  },
  "language_info": {
   "codemirror_mode": {
    "name": "ipython",
    "version": 3
   },
   "file_extension": ".py",
   "mimetype": "text/x-python",
   "name": "python",
   "nbconvert_exporter": "python",
   "pygments_lexer": "ipython3",
   "version": "3.11.5"
  }
 },
 "nbformat": 4,
 "nbformat_minor": 4
}
